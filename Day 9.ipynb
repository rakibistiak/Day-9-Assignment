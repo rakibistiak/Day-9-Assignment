{
 "cells": [
  {
   "cell_type": "code",
   "execution_count": 1,
   "id": "6d81e6dd-6e30-4a39-af13-208c3d482a88",
   "metadata": {},
   "outputs": [
    {
     "name": "stdout",
     "output_type": "stream",
     "text": [
      "AI\n",
      "Data Science\n",
      "Math\n",
      "Statistics\n"
     ]
    }
   ],
   "source": [
    "sub = [\"AI\", \"Data Science\", \"Math\", \"Statistics\"]\n",
    "for x in sub:\n",
    "    print(x)"
   ]
  },
  {
   "cell_type": "code",
   "execution_count": 7,
   "id": "789c0613-2d8a-43b9-abdd-e4dc11239d7a",
   "metadata": {},
   "outputs": [
    {
     "name": "stdout",
     "output_type": "stream",
     "text": [
      "15\n"
     ]
    }
   ],
   "source": [
    "limit = [1,2,3,4,5]\n",
    "sum=0\n",
    "for i in limit:\n",
    "    sum=sum+i\n",
    "print(sum)"
   ]
  },
  {
   "cell_type": "code",
   "execution_count": 27,
   "id": "e041d622-d5bb-48ae-9384-80d5309cf122",
   "metadata": {},
   "outputs": [
    {
     "name": "stdout",
     "output_type": "stream",
     "text": [
      "I\n",
      "Love\n",
      "Data\n",
      "Science\n",
      "so\n",
      "much!!!\n"
     ]
    }
   ],
   "source": [
    "data='I Love Data Science so much!!!'\n",
    "data = data.split()\n",
    "for i in range(len(data)):\n",
    "    print(data[i])"
   ]
  },
  {
   "cell_type": "markdown",
   "id": "8958e63d-01be-46c5-afb3-c7d40cbbe237",
   "metadata": {},
   "source": [
    "Assignment 1: Display number from -100 to -10 using loop"
   ]
  },
  {
   "cell_type": "code",
   "execution_count": 31,
   "id": "15257a1b-7e57-4c90-a4c7-bd251ba09a48",
   "metadata": {},
   "outputs": [
    {
     "name": "stdout",
     "output_type": "stream",
     "text": [
      "-100\n",
      "-99\n",
      "-98\n",
      "-97\n",
      "-96\n",
      "-95\n",
      "-94\n",
      "-93\n",
      "-92\n",
      "-91\n",
      "-90\n",
      "-89\n",
      "-88\n",
      "-87\n",
      "-86\n",
      "-85\n",
      "-84\n",
      "-83\n",
      "-82\n",
      "-81\n",
      "-80\n",
      "-79\n",
      "-78\n",
      "-77\n",
      "-76\n",
      "-75\n",
      "-74\n",
      "-73\n",
      "-72\n",
      "-71\n",
      "-70\n",
      "-69\n",
      "-68\n",
      "-67\n",
      "-66\n",
      "-65\n",
      "-64\n",
      "-63\n",
      "-62\n",
      "-61\n",
      "-60\n",
      "-59\n",
      "-58\n",
      "-57\n",
      "-56\n",
      "-55\n",
      "-54\n",
      "-53\n",
      "-52\n",
      "-51\n",
      "-50\n",
      "-49\n",
      "-48\n",
      "-47\n",
      "-46\n",
      "-45\n",
      "-44\n",
      "-43\n",
      "-42\n",
      "-41\n",
      "-40\n",
      "-39\n",
      "-38\n",
      "-37\n",
      "-36\n",
      "-35\n",
      "-34\n",
      "-33\n",
      "-32\n",
      "-31\n",
      "-30\n",
      "-29\n",
      "-28\n",
      "-27\n",
      "-26\n",
      "-25\n",
      "-24\n",
      "-23\n",
      "-22\n",
      "-21\n",
      "-20\n",
      "-19\n",
      "-18\n",
      "-17\n",
      "-16\n",
      "-15\n",
      "-14\n",
      "-13\n",
      "-12\n",
      "-11\n",
      "-10\n"
     ]
    }
   ],
   "source": [
    "for x in range(-100, -9):\n",
    "    print(x)   "
   ]
  },
  {
   "cell_type": "markdown",
   "id": "2eba1a0d-0f35-4c3f-9395-567da83446c4",
   "metadata": {},
   "source": [
    "Assignment 2: Write a program to sum all prime numbers within a range 10 to 100"
   ]
  },
  {
   "cell_type": "code",
   "execution_count": 43,
   "id": "c9249858-52be-4912-b1f9-eb2dd623f8e2",
   "metadata": {},
   "outputs": [
    {
     "data": {
      "text/plain": [
       "[13,\n",
       " 17,\n",
       " 19,\n",
       " 23,\n",
       " 29,\n",
       " 31,\n",
       " 37,\n",
       " 41,\n",
       " 43,\n",
       " 47,\n",
       " 53,\n",
       " 59,\n",
       " 61,\n",
       " 67,\n",
       " 71,\n",
       " 73,\n",
       " 79,\n",
       " 83,\n",
       " 89,\n",
       " 97]"
      ]
     },
     "execution_count": 43,
     "metadata": {},
     "output_type": "execute_result"
    }
   ],
   "source": [
    "prime_number=[]\n",
    "non_prime=[]\n",
    "for i in range(2,101):\n",
    "    if i%2!=0 and i%3!=0 and i%5!=0 and i%7!=0 and i%11!=0:\n",
    "        prime_number.append(i)\n",
    "    else:\n",
    "        non_prime.append(i)\n",
    "prime_number\n",
    "#non_prime"
   ]
  },
  {
   "cell_type": "code",
   "execution_count": 65,
   "id": "36fa9660-b768-4b05-b038-da760b2ec0ba",
   "metadata": {},
   "outputs": [
    {
     "data": {
      "text/plain": [
       "3"
      ]
     },
     "execution_count": 65,
     "metadata": {},
     "output_type": "execute_result"
    }
   ],
   "source": [
    "int(5/2)+1"
   ]
  },
  {
   "cell_type": "markdown",
   "id": "9126bfb9-0f75-44ce-96a4-d8dd93b102a0",
   "metadata": {},
   "source": [
    "Assignment 3: Find the factorial of n!"
   ]
  },
  {
   "cell_type": "code",
   "execution_count": 9,
   "id": "7d0b6099-4082-482a-a14e-24921da5ebd9",
   "metadata": {},
   "outputs": [
    {
     "name": "stdin",
     "output_type": "stream",
     "text": [
      "Enter a number 10\n"
     ]
    },
    {
     "name": "stdout",
     "output_type": "stream",
     "text": [
      "10\n",
      "9\n",
      "8\n",
      "7\n",
      "6\n",
      "5\n",
      "4\n",
      "3\n",
      "2\n",
      "final answer is  3628800\n"
     ]
    }
   ],
   "source": [
    "num=int(input(\"Enter a number\"))\n",
    "factorial=1\n",
    "if num>0:\n",
    "    for i in range(num,1,-1):\n",
    "        factorial=factorial*i\n",
    "        print(i)\n",
    "print(\"final answer is \", factorial)"
   ]
  },
  {
   "cell_type": "markdown",
   "id": "95f773ef-084e-4c16-b308-2f74c2061461",
   "metadata": {},
   "source": [
    "Assignment 4: Reverse a given intergener number"
   ]
  },
  {
   "cell_type": "code",
   "execution_count": 57,
   "id": "96b18a67-7c9f-4cff-b1db-a2ba0ec7b792",
   "metadata": {},
   "outputs": [
    {
     "data": {
      "text/plain": [
       "89756"
      ]
     },
     "execution_count": 57,
     "metadata": {},
     "output_type": "execute_result"
    }
   ],
   "source": [
    "num=str(65798)\n",
    "reverse_number=0\n",
    "for i in range(len(num)):\n",
    "    digit=int(num)%10\n",
    "    reverse_number=reverse_number*10+digit\n",
    "    num=int(int(num)/10)\n",
    "reverse_number"
   ]
  },
  {
   "cell_type": "code",
   "execution_count": 17,
   "id": "8486e134-8921-4f75-b8b6-c343d24c7990",
   "metadata": {},
   "outputs": [
    {
     "data": {
      "text/plain": [
       "5"
      ]
     },
     "execution_count": 17,
     "metadata": {},
     "output_type": "execute_result"
    }
   ],
   "source": [
    "56 // 10"
   ]
  },
  {
   "cell_type": "code",
   "execution_count": null,
   "id": "a217574a-e8ce-4e95-b2f6-df14287efea0",
   "metadata": {},
   "outputs": [],
   "source": []
  }
 ],
 "metadata": {
  "kernelspec": {
   "display_name": "Python 3 (ipykernel)",
   "language": "python",
   "name": "python3"
  },
  "language_info": {
   "codemirror_mode": {
    "name": "ipython",
    "version": 3
   },
   "file_extension": ".py",
   "mimetype": "text/x-python",
   "name": "python",
   "nbconvert_exporter": "python",
   "pygments_lexer": "ipython3",
   "version": "3.12.4"
  }
 },
 "nbformat": 4,
 "nbformat_minor": 5
}
